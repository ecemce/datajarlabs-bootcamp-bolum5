{
 "cells": [
  {
   "cell_type": "markdown",
   "metadata": {},
   "source": [
    "### Veri tabanları ne işe yarar? SQL'i hangi amaçlarla kullanırız?"
   ]
  },
  {
   "cell_type": "markdown",
   "metadata": {},
   "source": [
    "Karmaşık dosya kalıpları , çok sayıda dosya arası arası ilişki ve kullanıcıların dosyaya olan erişimi söz konusu olduğunda geleneksel\n",
    "dosya sistemleri yetersiz kalmaktadır.Bu sorunu çözmek üzere veriyi saklama ve erişim konusunda yeni yazılım teknolojilierine yönelme \n",
    "başlamış ve veritabanı sistemlerini oluşturmak kaçınılmaz hale gelmiştir.\n",
    "\n",
    "Sql’in ana kullanım alanı veritabanlarıdır. Bu yüzden ilk ortaya çıktığı günden bugüne dek değişmiş ve bu alanda etkin çözümler bulması için geliştirilmiştir. Veritabanı konusunda her sorun ve talebe çözüm olarak geliştirilen bu dil, birçok beklentiyi karşılamaktadır."
   ]
  },
  {
   "cell_type": "code",
   "execution_count": null,
   "metadata": {},
   "outputs": [],
   "source": []
  }
 ],
 "metadata": {
  "kernelspec": {
   "display_name": "Python 3",
   "language": "python",
   "name": "python3"
  },
  "language_info": {
   "codemirror_mode": {
    "name": "ipython",
    "version": 3
   },
   "file_extension": ".py",
   "mimetype": "text/x-python",
   "name": "python",
   "nbconvert_exporter": "python",
   "pygments_lexer": "ipython3",
   "version": "3.7.1"
  }
 },
 "nbformat": 4,
 "nbformat_minor": 2
}
